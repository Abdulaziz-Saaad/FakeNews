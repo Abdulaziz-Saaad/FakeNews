{
 "cells": [
  {
   "cell_type": "code",
   "execution_count": 4,
   "id": "00299edd-b6ac-4dde-933c-833f9969a00d",
   "metadata": {},
   "outputs": [],
   "source": [
    "import pandas as pd\n",
    "import numpy as np\n",
    "import matplotlib.pyplot as plt\n",
    "import seaborn as sns\n",
    "import re\n",
    "from copy import deepcopy\n",
    "from nltk.corpus import stopwords\n",
    "from nltk.stem.porter import PorterStemmer\n",
    "from sklearn.feature_extraction.text import TfidfVectorizer\n",
    "from sklearn.model_selection import train_test_split\n",
    "from sklearn.linear_model import LogisticRegression\n",
    "from sklearn.ensemble import RandomForestClassifier\n",
    "from sklearn.ensemble import  GradientBoostingClassifier\n",
    "from sklearn.tree import DecisionTreeClassifier\n",
    "from sklearn.svm import LinearSVC\n",
    "from sklearn.metrics import accuracy_score, confusion_matrix, classification_report\n",
    "import joblib"
   ]
  },
  {
   "cell_type": "code",
   "execution_count": 5,
   "id": "92a4ba12-4b36-480d-b34e-07f37d3ae66f",
   "metadata": {},
   "outputs": [
    {
     "name": "stderr",
     "output_type": "stream",
     "text": [
      "[nltk_data] Downloading package stopwords to /Users/roman/nltk_data...\n",
      "[nltk_data]   Package stopwords is already up-to-date!\n"
     ]
    },
    {
     "data": {
      "text/plain": [
       "True"
      ]
     },
     "execution_count": 5,
     "metadata": {},
     "output_type": "execute_result"
    }
   ],
   "source": [
    "# Download stopwords from nltk\n",
    "import nltk\n",
    "nltk.download('stopwords')"
   ]
  },
  {
   "cell_type": "code",
   "execution_count": 6,
   "id": "ffd26ce4-ba3a-408e-9de7-8f2f2cd22fbb",
   "metadata": {},
   "outputs": [
    {
     "data": {
      "text/plain": [
       "['i', 'me', 'my', 'myself', 'we', 'our', 'ours', 'ourselves', 'you', \"you're\"]"
      ]
     },
     "execution_count": 6,
     "metadata": {},
     "output_type": "execute_result"
    }
   ],
   "source": [
    "# Check downloaded stopwords in english\n",
    "stopwords.words('english')[:10]"
   ]
  },
  {
   "cell_type": "code",
   "execution_count": 8,
   "id": "0ddce7b7-13a9-4c46-bfe5-4c8151a85d48",
   "metadata": {},
   "outputs": [
    {
     "name": "stdout",
     "output_type": "stream",
     "text": [
      "               id        label  \\\n",
      "0       2635.json        false   \n",
      "1      10540.json    half-true   \n",
      "2        324.json  mostly-true   \n",
      "3       1123.json        false   \n",
      "4       9028.json    half-true   \n",
      "...           ...          ...   \n",
      "10235   5473.json  mostly-true   \n",
      "10236   3408.json  mostly-true   \n",
      "10237   3959.json    half-true   \n",
      "10238   2253.json        false   \n",
      "10239   1155.json   pants-fire   \n",
      "\n",
      "                                               statement  \\\n",
      "0      Says the Annies List political group supports ...   \n",
      "1      When did the decline of coal start? It started...   \n",
      "2      Hillary Clinton agrees with John McCain \"by vo...   \n",
      "3      Health care reform legislation is likely to ma...   \n",
      "4      The economic turnaround started at the end of ...   \n",
      "...                                                  ...   \n",
      "10235  There are a larger number of shark attacks in ...   \n",
      "10236  Democrats have now become the party of the [At...   \n",
      "10237  Says an alternative to Social Security that op...   \n",
      "10238  On lifting the U.S. Cuban embargo and allowing...   \n",
      "10239  The Department of Veterans Affairs has a manua...   \n",
      "\n",
      "                                  subject         speaker  \\\n",
      "0                                abortion    dwayne-bohac   \n",
      "1      energy,history,job-accomplishments  scott-surovell   \n",
      "2                          foreign-policy    barack-obama   \n",
      "3                             health-care    blog-posting   \n",
      "4                            economy,jobs   charlie-crist   \n",
      "...                                   ...             ...   \n",
      "10235                   animals,elections    aclu-florida   \n",
      "10236                           elections     alan-powell   \n",
      "10237          retirement,social-security     herman-cain   \n",
      "10238              florida,foreign-policy     jeff-greene   \n",
      "10239                health-care,veterans  michael-steele   \n",
      "\n",
      "                                           job_title     state       party  \\\n",
      "0                               State representative     Texas  republican   \n",
      "1                                     State delegate  Virginia    democrat   \n",
      "2                                          President  Illinois    democrat   \n",
      "3                                                NaN       NaN        none   \n",
      "4                                                NaN   Florida    democrat   \n",
      "...                                              ...       ...         ...   \n",
      "10235                                            NaN   Florida        none   \n",
      "10236                                            NaN   Georgia  republican   \n",
      "10237                                            NaN   Georgia  republican   \n",
      "10238                                            NaN   Florida    democrat   \n",
      "10239  chairman of the Republican National Committee  Maryland  republican   \n",
      "\n",
      "       barely_true_counts  false_counts  half_true_counts  mostly_true_counts  \\\n",
      "0                     0.0           1.0               0.0                 0.0   \n",
      "1                     0.0           0.0               1.0                 1.0   \n",
      "2                    70.0          71.0             160.0               163.0   \n",
      "3                     7.0          19.0               3.0                 5.0   \n",
      "4                    15.0           9.0              20.0                19.0   \n",
      "...                   ...           ...               ...                 ...   \n",
      "10235                 0.0           1.0               1.0                 1.0   \n",
      "10236                 0.0           0.0               0.0                 1.0   \n",
      "10237                 4.0          11.0               5.0                 3.0   \n",
      "10238                 3.0           1.0               3.0                 0.0   \n",
      "10239                 0.0           1.0               1.0                 0.0   \n",
      "\n",
      "       pants_on_fire_counts                                            context  \n",
      "0                       0.0                                           a mailer  \n",
      "1                       0.0                                    a floor speech.  \n",
      "2                       9.0                                             Denver  \n",
      "3                      44.0                                     a news release  \n",
      "4                       2.0                                an interview on CNN  \n",
      "...                     ...                                                ...  \n",
      "10235                   0.0                  interview on \"The Colbert Report\"  \n",
      "10236                   0.0                                       an interview  \n",
      "10237                   3.0                   a Republican presidential debate  \n",
      "10238                   0.0  a televised debate on Miami's WPLG-10 against ...  \n",
      "10239                   2.0                               a Fox News interview  \n",
      "\n",
      "[10240 rows x 14 columns]\n"
     ]
    }
   ],
   "source": [
    "# Load dataset\n",
    "df = pd.read_csv('../datasets/dataset3/liar_dataset/train.tsv', delimiter='\\t', header=None)\n",
    "df.columns = ['id', 'label', 'statement', 'subject', 'speaker', 'job_title', \n",
    "              'state', 'party', 'barely_true_counts', 'false_counts', \n",
    "              'half_true_counts', 'mostly_true_counts', 'pants_on_fire_counts', 'context']\n",
    "\n",
    "print(df)"
   ]
  },
  {
   "cell_type": "code",
   "execution_count": 9,
   "id": "0eafad4e-320f-4e62-9527-5fd87ef73434",
   "metadata": {},
   "outputs": [
    {
     "name": "stdout",
     "output_type": "stream",
     "text": [
      "       label                                          statement\n",
      "0          0  Says the Annies List political group supports ...\n",
      "1          1  When did the decline of coal start? It started...\n",
      "2          1  Hillary Clinton agrees with John McCain \"by vo...\n",
      "3          0  Health care reform legislation is likely to ma...\n",
      "4          1  The economic turnaround started at the end of ...\n",
      "...      ...                                                ...\n",
      "10235      1  There are a larger number of shark attacks in ...\n",
      "10236      1  Democrats have now become the party of the [At...\n",
      "10237      1  Says an alternative to Social Security that op...\n",
      "10238      0  On lifting the U.S. Cuban embargo and allowing...\n",
      "10239      0  The Department of Veterans Affairs has a manua...\n",
      "\n",
      "[10240 rows x 2 columns]\n"
     ]
    }
   ],
   "source": [
    "# Select necessary columns\n",
    "df = df[['label', 'statement']]\n",
    "\n",
    "# Map labels to binary classification\n",
    "df['label'] = df['label'].map({\n",
    "    'true': 1, \n",
    "    'mostly-true': 1, \n",
    "    'half-true': 1, \n",
    "    'barely-true': 0, \n",
    "    'false': 0, \n",
    "    'pants-fire': 0\n",
    "})\n",
    "print(df)"
   ]
  },
  {
   "cell_type": "code",
   "execution_count": 7,
   "id": "2e42bcd4-63c8-4e80-b7db-a33016b6a17b",
   "metadata": {},
   "outputs": [],
   "source": [
    "# # choose the necessary columns \n",
    "# df_fake=df_fake.iloc[:,0:2]\n",
    "# df_real=df_real.iloc[:,0:2]"
   ]
  },
  {
   "cell_type": "code",
   "execution_count": 8,
   "id": "2da073f0-881a-4e0d-9f66-2aa4227fcbe3",
   "metadata": {},
   "outputs": [],
   "source": [
    "# # label the class values\n",
    "# df_fake['class']=0\n",
    "# df_real['class']=1"
   ]
  },
  {
   "cell_type": "code",
   "execution_count": 9,
   "id": "572009d4-c5eb-428e-8f7a-9dd13bfd6cc9",
   "metadata": {},
   "outputs": [
    {
     "name": "stdout",
     "output_type": "stream",
     "text": [
      "(44898, 3)\n",
      "44898\n"
     ]
    }
   ],
   "source": [
    "# # concatenate 2 dataframes\n",
    "# df=pd.concat([df_fake, df_real], ignore_index=True, sort=False )\n",
    "\n",
    "# print(df.shape)\n",
    "# print(len(df))\n",
    "# #merge \"title\" and \"text\" values in same column\n",
    "# df.insert(0,column=\"title_text\", value=df['text'] + \" \" + df['text']) \n",
    "# #remove previous columns that are merged\n",
    "# df.drop (['text', 'text'], inplace=True, axis=1)"
   ]
  },
  {
   "cell_type": "code",
   "execution_count": 10,
   "id": "5496686b-5eb7-4462-964f-065cda8948bd",
   "metadata": {},
   "outputs": [
    {
     "data": {
      "text/html": [
       "<div>\n",
       "<style scoped>\n",
       "    .dataframe tbody tr th:only-of-type {\n",
       "        vertical-align: middle;\n",
       "    }\n",
       "\n",
       "    .dataframe tbody tr th {\n",
       "        vertical-align: top;\n",
       "    }\n",
       "\n",
       "    .dataframe thead th {\n",
       "        text-align: right;\n",
       "    }\n",
       "</style>\n",
       "<table border=\"1\" class=\"dataframe\">\n",
       "  <thead>\n",
       "    <tr style=\"text-align: right;\">\n",
       "      <th></th>\n",
       "      <th>label</th>\n",
       "      <th>statement</th>\n",
       "    </tr>\n",
       "  </thead>\n",
       "  <tbody>\n",
       "    <tr>\n",
       "      <th>0</th>\n",
       "      <td>0</td>\n",
       "      <td>Says the Annies List political group supports ...</td>\n",
       "    </tr>\n",
       "    <tr>\n",
       "      <th>1</th>\n",
       "      <td>1</td>\n",
       "      <td>When did the decline of coal start? It started...</td>\n",
       "    </tr>\n",
       "    <tr>\n",
       "      <th>2</th>\n",
       "      <td>1</td>\n",
       "      <td>Hillary Clinton agrees with John McCain \"by vo...</td>\n",
       "    </tr>\n",
       "    <tr>\n",
       "      <th>3</th>\n",
       "      <td>0</td>\n",
       "      <td>Health care reform legislation is likely to ma...</td>\n",
       "    </tr>\n",
       "    <tr>\n",
       "      <th>4</th>\n",
       "      <td>1</td>\n",
       "      <td>The economic turnaround started at the end of ...</td>\n",
       "    </tr>\n",
       "  </tbody>\n",
       "</table>\n",
       "</div>"
      ],
      "text/plain": [
       "   label                                          statement\n",
       "0      0  Says the Annies List political group supports ...\n",
       "1      1  When did the decline of coal start? It started...\n",
       "2      1  Hillary Clinton agrees with John McCain \"by vo...\n",
       "3      0  Health care reform legislation is likely to ma...\n",
       "4      1  The economic turnaround started at the end of ..."
      ]
     },
     "execution_count": 10,
     "metadata": {},
     "output_type": "execute_result"
    }
   ],
   "source": [
    "df.head()"
   ]
  },
  {
   "cell_type": "code",
   "execution_count": 11,
   "id": "919afda3-b7e5-469b-aac0-c79a7df4e486",
   "metadata": {},
   "outputs": [
    {
     "data": {
      "text/plain": [
       "(10240, 2)"
      ]
     },
     "execution_count": 11,
     "metadata": {},
     "output_type": "execute_result"
    }
   ],
   "source": [
    "# Show shape of the dataset\n",
    "df.shape"
   ]
  },
  {
   "cell_type": "code",
   "execution_count": 12,
   "id": "2c4e5f86-8c60-44a1-8753-24310bd4f998",
   "metadata": {},
   "outputs": [
    {
     "name": "stdout",
     "output_type": "stream",
     "text": [
      "<class 'pandas.core.frame.DataFrame'>\n",
      "RangeIndex: 10240 entries, 0 to 10239\n",
      "Data columns (total 2 columns):\n",
      " #   Column     Non-Null Count  Dtype \n",
      "---  ------     --------------  ----- \n",
      " 0   label      10240 non-null  int64 \n",
      " 1   statement  10240 non-null  object\n",
      "dtypes: int64(1), object(1)\n",
      "memory usage: 160.1+ KB\n"
     ]
    }
   ],
   "source": [
    "# Show some info about dataset\n",
    "df.info()"
   ]
  },
  {
   "cell_type": "code",
   "execution_count": 13,
   "id": "5cf78c24-4b81-47b4-9892-ee3d3116dfb6",
   "metadata": {},
   "outputs": [],
   "source": [
    "# Take a copy from original training data\n",
    "df_train_proc = deepcopy(df)"
   ]
  },
  {
   "cell_type": "code",
   "execution_count": 14,
   "id": "dbb42ceb-874d-4606-a97c-f37a830a3003",
   "metadata": {},
   "outputs": [
    {
     "data": {
      "text/plain": [
       "label        0\n",
       "statement    0\n",
       "dtype: int64"
      ]
     },
     "execution_count": 14,
     "metadata": {},
     "output_type": "execute_result"
    }
   ],
   "source": [
    "# Check about missing values to decide if we will make handling for it or not\n",
    "df_train_proc.isnull().sum()"
   ]
  },
  {
   "cell_type": "code",
   "execution_count": 15,
   "id": "ae2ffabf-44df-4a3f-8596-b65c5dce64a4",
   "metadata": {},
   "outputs": [
    {
     "data": {
      "text/plain": [
       "(10240, 2)"
      ]
     },
     "execution_count": 15,
     "metadata": {},
     "output_type": "execute_result"
    }
   ],
   "source": [
    "# Drop rows that contain at least one none value based on the title and text columns\n",
    "df_train_proc = df_train_proc.dropna(subset=['statement', 'label'])\n",
    "df_train_proc.shape"
   ]
  },
  {
   "cell_type": "code",
   "execution_count": 16,
   "id": "cf8a04c9-606e-4b5a-88d7-2bcc6f7988b3",
   "metadata": {},
   "outputs": [
    {
     "data": {
      "text/plain": [
       "label        0\n",
       "statement    0\n",
       "dtype: int64"
      ]
     },
     "execution_count": 16,
     "metadata": {},
     "output_type": "execute_result"
    }
   ],
   "source": [
    "# Check about none values after handling missing values\n",
    "df_train_proc.isnull().sum()"
   ]
  },
  {
   "cell_type": "code",
   "execution_count": 18,
   "id": "79d5d6c0-a1c4-487f-b21a-8aada27efa0f",
   "metadata": {},
   "outputs": [
    {
     "name": "stdout",
     "output_type": "stream",
     "text": [
      "label\n",
      "1    5752\n",
      "0    4488\n",
      "Name: count, dtype: int64\n"
     ]
    },
    {
     "data": {
      "image/png": "[encoded data removed]",
      "text/plain": [
       "<Figure size 640x480 with 1 Axes>"
      ]
     },
     "metadata": {},
     "output_type": "display_data"
    }
   ],
   "source": [
    "# Visualize label values to check about balancing of 0's and 1's\n",
    "counts = df_train_proc['label'].value_counts()\n",
    "print(counts)\n",
    "\n",
    "# Plot result of each group\n",
    "plt.bar(counts.index, counts)\n",
    "plt.show()"
   ]
  },
  {
   "cell_type": "code",
   "execution_count": 19,
   "id": "57ffddc6-854b-4a96-a425-41d0504678f6",
   "metadata": {},
   "outputs": [
    {
     "name": "stdout",
     "output_type": "stream",
     "text": [
      "X shape (10240,), Y shape (10240,)\n"
     ]
    }
   ],
   "source": [
    "# Split data into input and label data\n",
    "X = df_train_proc['statement']\n",
    "Y = df_train_proc['label']\n",
    "print(f'X shape {X.shape}, Y shape {Y.shape}')"
   ]
  },
  {
   "cell_type": "code",
   "execution_count": 20,
   "id": "c9b418e6-9b1e-4bf8-b96e-a7d9c20c58b4",
   "metadata": {},
   "outputs": [],
   "source": [
    "# Create porter stemmer to stemming data\n",
    "stemmer = PorterStemmer()"
   ]
  },
  {
   "cell_type": "code",
   "execution_count": 21,
   "id": "a40d1524-2036-4d89-99fc-52d98c565d90",
   "metadata": {},
   "outputs": [],
   "source": [
    "# Create function to stem all words in the content\n",
    "def stemming(content, stemmer):\n",
    "    # Work on the alphabetical words only\n",
    "    stemmed_content = re.sub('[^a-zA-Z]', ' ', content)\n",
    "    \n",
    "    # Convert sentences into lower case sentences\n",
    "    stemmed_content = stemmed_content.lower()\n",
    "    # Split sentences into words\n",
    "    stemmed_content = stemmed_content.split()\n",
    "    \n",
    "    # Get English stopwords\n",
    "    stop_words = set(stopwords.words('english'))\n",
    "    # Stem words\n",
    "    stemmed_content = [stemmer.stem(word) for word in stemmed_content if word not in stop_words]\n",
    "    # Join words again\n",
    "    stemmed_content = ' '.join(stemmed_content)\n",
    "    \n",
    "    return stemmed_content"
   ]
  },
  {
   "cell_type": "code",
   "execution_count": 22,
   "id": "d0bd87ff-9022-4d01-bafc-b726f0ef25ea",
   "metadata": {},
   "outputs": [
    {
     "data": {
      "text/plain": [
       "0    Says the Annies List political group supports ...\n",
       "1    When did the decline of coal start? It started...\n",
       "2    Hillary Clinton agrees with John McCain \"by vo...\n",
       "3    Health care reform legislation is likely to ma...\n",
       "4    The economic turnaround started at the end of ...\n",
       "Name: statement, dtype: object"
      ]
     },
     "execution_count": 22,
     "metadata": {},
     "output_type": "execute_result"
    }
   ],
   "source": [
    "# Shwo the input data before stemming\n",
    "X.head()"
   ]
  },
  {
   "cell_type": "code",
   "execution_count": 23,
   "id": "b809ed85-895c-434e-8219-1a2e535c809d",
   "metadata": {},
   "outputs": [],
   "source": [
    "# Apply stemmer on the input data\n",
    "X_stemmed = X.apply(lambda x: stemming(x, stemmer))"
   ]
  },
  {
   "cell_type": "code",
   "execution_count": 24,
   "id": "3b9697dd-2c42-42d9-886f-47b4944fce1a",
   "metadata": {},
   "outputs": [
    {
     "data": {
      "text/plain": [
       "0    say anni list polit group support third trimes...\n",
       "1    declin coal start start natur ga took start be...\n",
       "2    hillari clinton agre john mccain vote give geo...\n",
       "3    health care reform legisl like mandat free sex...\n",
       "4                     econom turnaround start end term\n",
       "Name: statement, dtype: object"
      ]
     },
     "execution_count": 24,
     "metadata": {},
     "output_type": "execute_result"
    }
   ],
   "source": [
    "# Shwo the input data after stemming\n",
    "X_stemmed.head()"
   ]
  },
  {
   "cell_type": "code",
   "execution_count": 25,
   "id": "294dd9fe-cb7c-40f4-b9ed-7e06a6f926a4",
   "metadata": {},
   "outputs": [
    {
     "name": "stdout",
     "output_type": "stream",
     "text": [
      "x train shape (1024,), x test shape (9216,)\n",
      "y train shape (1024,), y test shape (9216,)\n"
     ]
    }
   ],
   "source": [
    "# Split data into train and test data\n",
    "x_train, x_test, y_train, y_test = train_test_split(X_stemmed, Y, train_size = 0.1, random_state = 42)\n",
    "print(f'x train shape {x_train.shape}, x test shape {x_test.shape}')\n",
    "print(f'y train shape {y_train.shape}, y test shape {y_test.shape}')"
   ]
  },
  {
   "cell_type": "code",
   "execution_count": 28,
   "id": "71b9762f-ee6c-4d27-b852-51514a0a0790",
   "metadata": {},
   "outputs": [],
   "source": [
    "# Create vectorizer \n",
    "vectorizer = TfidfVectorizer()\n",
    "\n",
    "# Fit and transform data\n",
    "X_train_vectorized = vectorizer.fit_transform(x_train)\n",
    "X_test_vectorized = vectorizer.transform(x_test)"
   ]
  },
  {
   "cell_type": "code",
   "execution_count": 29,
   "id": "f5c2d108-ec3b-4041-bdb1-a68e67f4fa5b",
   "metadata": {},
   "outputs": [
    {
     "name": "stdout",
     "output_type": "stream",
     "text": [
      "  (0, 2385)\t0.19372933827471864\n",
      "  (0, 1803)\t0.48121295817849435\n",
      "  (0, 1047)\t0.37808507354697213\n",
      "  (0, 976)\t0.3312079327324436\n",
      "  (0, 1763)\t0.3312079327324436\n",
      "  (0, 2653)\t0.4005176156986524\n",
      "  (0, 1428)\t0.34982341278223855\n",
      "  (0, 778)\t0.29285924863042867\n",
      "  (1, 778)\t0.24401104359475792\n",
      "  (1, 2426)\t0.2643783431008213\n",
      "  (1, 2209)\t0.24742722145132526\n",
      "  (1, 2243)\t0.3337122588470574\n",
      "  (1, 824)\t0.31502140975653575\n",
      "  (1, 2202)\t0.2511169746261501\n",
      "  (1, 247)\t0.18533075552990805\n",
      "  (1, 1017)\t0.31502140975653575\n",
      "  (1, 2305)\t0.3337122588470574\n",
      "  (1, 114)\t0.3337122588470574\n",
      "  (1, 898)\t0.28306919219134297\n",
      "  (1, 552)\t0.31502140975653575\n",
      "  (2, 2111)\t0.1574104232892742\n",
      "  (2, 1658)\t0.3702935269555557\n",
      "  (2, 2057)\t0.330294779666861\n",
      "  (2, 538)\t0.3411682344419828\n",
      "  (2, 1550)\t0.3541583928737767\n",
      "  :\t:\n",
      "  (1021, 1564)\t0.28941371693233847\n",
      "  (1021, 2423)\t0.28941371693233847\n",
      "  (1021, 1665)\t0.28941371693233847\n",
      "  (1021, 1291)\t0.28941371693233847\n",
      "  (1021, 227)\t0.28941371693233847\n",
      "  (1022, 1803)\t0.29440275618836975\n",
      "  (1022, 1994)\t0.38111616509075374\n",
      "  (1022, 1728)\t0.3376655695081425\n",
      "  (1022, 1038)\t0.3090400794859743\n",
      "  (1022, 1495)\t0.349299052104963\n",
      "  (1022, 2482)\t0.44314488982774985\n",
      "  (1022, 512)\t0.4900678086891433\n",
      "  (1023, 247)\t0.20090755813173974\n",
      "  (1023, 538)\t0.2548175355329146\n",
      "  (1023, 2298)\t0.15354488897228746\n",
      "  (1023, 1305)\t0.2813339434290099\n",
      "  (1023, 1949)\t0.2120584258327842\n",
      "  (1023, 761)\t0.28659898991632654\n",
      "  (1023, 1007)\t0.21873121957619657\n",
      "  (1023, 532)\t0.26451984607535384\n",
      "  (1023, 2037)\t0.2924848111300543\n",
      "  (1023, 2555)\t0.3414985387203597\n",
      "  (1023, 464)\t0.3271225699281672\n",
      "  (1023, 1213)\t0.3271225699281672\n",
      "  (1023, 2398)\t0.36176032872628\n"
     ]
    }
   ],
   "source": [
    "# Show input data after the vectorization process\n",
    "print(X_train_vectorized)"
   ]
  },
  {
   "cell_type": "code",
   "execution_count": 30,
   "id": "3cb125ec-5936-4ea2-8772-9493c1135815",
   "metadata": {},
   "outputs": [],
   "source": [
    "# Function to perform the model functionalities\n",
    "def fit_predict(model, x_train, y_train, x_test, y_test):\n",
    "    classifier = model\n",
    "    \n",
    "    # Make model fit data\n",
    "    classifier.fit(x_train, y_train)\n",
    "    \n",
    "    # Get Score on train and test data\n",
    "    train_score = classifier.score(x_train, y_train)\n",
    "    test_score = classifier.score(x_test, y_test)\n",
    "    print(f'train score is {train_score}, test score is {test_score}')\n",
    "    \n",
    "    # Make model predict on test data\n",
    "    test_prediction = classifier.predict(x_test)\n",
    "    # Get accuracy, confusion matrix and classification report\n",
    "    accuracy = accuracy_score(y_test, test_prediction) \n",
    "    cf_matrix = confusion_matrix(y_test, test_prediction)\n",
    "    cl_report = classification_report(y_test, test_prediction)\n",
    "    \n",
    "    # Plot confusion matrix\n",
    "    plt.figure(figsize=(7,7))\n",
    "    sns.heatmap(cf_matrix, annot=True, cmap='Blues', fmt='g')\n",
    "    plt.xlabel('Predicted')\n",
    "    plt.ylabel('Actual')\n",
    "    plt.title('Confusion Matrix')\n",
    "    plt.show()\n",
    "    \n",
    "    # Show accuracy and classification report\n",
    "    print(f'accuracy: {accuracy}\\nclassification report:\\n{cl_report}', '\\n\\n')\n",
    "    \n",
    "    return classifier"
   ]
  },
  {
   "cell_type": "code",
   "execution_count": 31,
   "id": "5c574685-5c75-42b7-b74a-7526f1db601c",
   "metadata": {},
   "outputs": [],
   "source": [
    "# Put all required models that can fit this problem\n",
    "models = {\n",
    "    'LogisticRegression': LogisticRegression(),\n",
    "    'RandomForestClassifier': RandomForestClassifier(),\n",
    "    'LinearSVC': LinearSVC(),\n",
    "    'DecisionTreeClassifier': DecisionTreeClassifier(),\n",
    "    'GradientBoostingClassifier': GradientBoostingClassifier()   \n",
    "}"
   ]
  },
  {
   "cell_type": "code",
   "execution_count": 32,
   "id": "18d220ed-28ad-4664-b87b-5ffb42487e5f",
   "metadata": {},
   "outputs": [
    {
     "name": "stdout",
     "output_type": "stream",
     "text": [
      "LogisticRegression:\n",
      "\n",
      "train score is 0.8740234375, test score is 0.5862630208333334\n"
     ]
    },
    {
     "data": {
      "image/png": "[encoded data removed]",
      "text/plain": [
       "<Figure size 700x700 with 2 Axes>"
      ]
     },
     "metadata": {},
     "output_type": "display_data"
    },
    {
     "name": "stdout",
     "output_type": "stream",
     "text": [
      "accuracy: 0.5862630208333334\n",
      "classification report:\n",
      "              precision    recall  f1-score   support\n",
      "\n",
      "           0       0.56      0.26      0.35      4051\n",
      "           1       0.59      0.85      0.70      5165\n",
      "\n",
      "    accuracy                           0.59      9216\n",
      "   macro avg       0.58      0.55      0.52      9216\n",
      "weighted avg       0.58      0.59      0.55      9216\n",
      " \n",
      "\n",
      "\n",
      "RandomForestClassifier:\n",
      "\n",
      "train score is 1.0, test score is 0.5737847222222222\n"
     ]
    },
    {
     "data": {
      "image/png": "[encoded data removed]",
      "text/plain": [
       "<Figure size 700x700 with 2 Axes>"
      ]
     },
     "metadata": {},
     "output_type": "display_data"
    },
    {
     "name": "stdout",
     "output_type": "stream",
     "text": [
      "accuracy: 0.5737847222222222\n",
      "classification report:\n",
      "              precision    recall  f1-score   support\n",
      "\n",
      "           0       0.53      0.27      0.36      4051\n",
      "           1       0.59      0.81      0.68      5165\n",
      "\n",
      "    accuracy                           0.57      9216\n",
      "   macro avg       0.56      0.54      0.52      9216\n",
      "weighted avg       0.56      0.57      0.54      9216\n",
      " \n",
      "\n",
      "\n",
      "LinearSVC:\n",
      "\n",
      "train score is 0.982421875, test score is 0.5662977430555556\n"
     ]
    },
    {
     "data": {
      "image/png": "[encoded data removed]",
      "text/plain": [
       "<Figure size 700x700 with 2 Axes>"
      ]
     },
     "metadata": {},
     "output_type": "display_data"
    },
    {
     "name": "stdout",
     "output_type": "stream",
     "text": [
      "accuracy: 0.5662977430555556\n",
      "classification report:\n",
      "              precision    recall  f1-score   support\n",
      "\n",
      "           0       0.51      0.41      0.46      4051\n",
      "           1       0.60      0.68      0.64      5165\n",
      "\n",
      "    accuracy                           0.57      9216\n",
      "   macro avg       0.55      0.55      0.55      9216\n",
      "weighted avg       0.56      0.57      0.56      9216\n",
      " \n",
      "\n",
      "\n",
      "DecisionTreeClassifier:\n",
      "\n",
      "train score is 1.0, test score is 0.5389539930555556\n"
     ]
    },
    {
     "data": {
      "image/png": "[encoded data removed]",
      "text/plain": [
       "<Figure size 700x700 with 2 Axes>"
      ]
     },
     "metadata": {},
     "output_type": "display_data"
    },
    {
     "name": "stdout",
     "output_type": "stream",
     "text": [
      "accuracy: 0.5389539930555556\n",
      "classification report:\n",
      "              precision    recall  f1-score   support\n",
      "\n",
      "           0       0.47      0.43      0.45      4051\n",
      "           1       0.58      0.63      0.60      5165\n",
      "\n",
      "    accuracy                           0.54      9216\n",
      "   macro avg       0.53      0.53      0.53      9216\n",
      "weighted avg       0.53      0.54      0.54      9216\n",
      " \n",
      "\n",
      "\n",
      "GradientBoostingClassifier:\n",
      "\n",
      "train score is 0.8017578125, test score is 0.5789930555555556\n"
     ]
    },
    {
     "data": {
      "image/png": "[encoded data removed]",
      "text/plain": [
       "<Figure size 700x700 with 2 Axes>"
      ]
     },
     "metadata": {},
     "output_type": "display_data"
    },
    {
     "name": "stdout",
     "output_type": "stream",
     "text": [
      "accuracy: 0.5789930555555556\n",
      "classification report:\n",
      "              precision    recall  f1-score   support\n",
      "\n",
      "           0       0.55      0.24      0.34      4051\n",
      "           1       0.59      0.84      0.69      5165\n",
      "\n",
      "    accuracy                           0.58      9216\n",
      "   macro avg       0.57      0.54      0.51      9216\n",
      "weighted avg       0.57      0.58      0.54      9216\n",
      " \n",
      "\n",
      "\n"
     ]
    }
   ],
   "source": [
    "trained_models = {}\n",
    "for name, model in models.items():\n",
    "    print(f'{name}:\\n')\n",
    "    model = fit_predict(model, X_train_vectorized, y_train, X_test_vectorized, y_test)\n",
    "    trained_models[name] = deepcopy(model)"
   ]
  },
  {
   "cell_type": "code",
   "execution_count": null,
   "id": "eb5e2fe7-bdef-4675-8526-ac9d141f3761",
   "metadata": {},
   "outputs": [],
   "source": []
  }
 ],
 "metadata": {
  "kernelspec": {
   "display_name": "Python 3 (ipykernel)",
   "language": "python",
   "name": "python3"
  },
  "language_info": {
   "codemirror_mode": {
    "name": "ipython",
    "version": 3
   },
   "file_extension": ".py",
   "mimetype": "text/x-python",
   "name": "python",
   "nbconvert_exporter": "python",
   "pygments_lexer": "ipython3",
   "version": "3.12.3"
  }
 },
 "nbformat": 4,
 "nbformat_minor": 5
}
