{
 "cells": [
  {
   "cell_type": "code",
   "execution_count": 1,
   "id": "00299edd-b6ac-4dde-933c-833f9969a00d",
   "metadata": {},
   "outputs": [],
   "source": [
    "import pandas as pd\n",
    "import numpy as np\n",
    "import matplotlib.pyplot as plt\n",
    "import seaborn as sns\n",
    "import re\n",
    "from copy import deepcopy\n",
    "from nltk.corpus import stopwords\n",
    "from nltk.stem.porter import PorterStemmer\n",
    "from sklearn.feature_extraction.text import TfidfVectorizer\n",
    "from sklearn.model_selection import train_test_split\n",
    "from sklearn.linear_model import LogisticRegression\n",
    "from sklearn.ensemble import RandomForestClassifier\n",
    "from sklearn.ensemble import  GradientBoostingClassifier\n",
    "from sklearn.tree import DecisionTreeClassifier\n",
    "from sklearn.svm import LinearSVC\n",
    "from sklearn.metrics import accuracy_score, confusion_matrix, classification_report\n",
    "import joblib"
   ]
  },
  {
   "cell_type": "code",
   "execution_count": 2,
   "id": "92a4ba12-4b36-480d-b34e-07f37d3ae66f",
   "metadata": {},
   "outputs": [
    {
     "name": "stderr",
     "output_type": "stream",
     "text": [
      "[nltk_data] Downloading package stopwords to /Users/roman/nltk_data...\n",
      "[nltk_data]   Package stopwords is already up-to-date!\n"
     ]
    },
    {
     "data": {
      "text/plain": [
       "True"
      ]
     },
     "execution_count": 2,
     "metadata": {},
     "output_type": "execute_result"
    }
   ],
   "source": [
    "# Download stopwords from nltk\n",
    "import nltk\n",
    "nltk.download('stopwords')"
   ]
  },
  {
   "cell_type": "code",
   "execution_count": 3,
   "id": "ffd26ce4-ba3a-408e-9de7-8f2f2cd22fbb",
   "metadata": {},
   "outputs": [
    {
     "data": {
      "text/plain": [
       "['i', 'me', 'my', 'myself', 'we', 'our', 'ours', 'ourselves', 'you', \"you're\"]"
      ]
     },
     "execution_count": 3,
     "metadata": {},
     "output_type": "execute_result"
    }
   ],
   "source": [
    "# Check downloaded stopwords in english\n",
    "stopwords.words('english')[:10]"
   ]
  },
  {
   "cell_type": "code",
   "execution_count": 4,
   "id": "0ddce7b7-13a9-4c46-bfe5-4c8151a85d48",
   "metadata": {},
   "outputs": [
    {
     "data": {
      "text/html": [
       "<div>\n",
       "<style scoped>\n",
       "    .dataframe tbody tr th:only-of-type {\n",
       "        vertical-align: middle;\n",
       "    }\n",
       "\n",
       "    .dataframe tbody tr th {\n",
       "        vertical-align: top;\n",
       "    }\n",
       "\n",
       "    .dataframe thead th {\n",
       "        text-align: right;\n",
       "    }\n",
       "</style>\n",
       "<table border=\"1\" class=\"dataframe\">\n",
       "  <thead>\n",
       "    <tr style=\"text-align: right;\">\n",
       "      <th></th>\n",
       "      <th>Unnamed: 0</th>\n",
       "      <th>text</th>\n",
       "    </tr>\n",
       "  </thead>\n",
       "  <tbody>\n",
       "    <tr>\n",
       "      <th>0</th>\n",
       "      <td>0</td>\n",
       "      <td>Donald Trump just couldn t wish all Americans ...</td>\n",
       "    </tr>\n",
       "    <tr>\n",
       "      <th>1</th>\n",
       "      <td>1</td>\n",
       "      <td>House Intelligence Committee Chairman Devin Nu...</td>\n",
       "    </tr>\n",
       "    <tr>\n",
       "      <th>2</th>\n",
       "      <td>2</td>\n",
       "      <td>On Friday, it was revealed that former Milwauk...</td>\n",
       "    </tr>\n",
       "    <tr>\n",
       "      <th>3</th>\n",
       "      <td>3</td>\n",
       "      <td>On Christmas day, Donald Trump announced that ...</td>\n",
       "    </tr>\n",
       "    <tr>\n",
       "      <th>4</th>\n",
       "      <td>4</td>\n",
       "      <td>Pope Francis used his annual Christmas Day mes...</td>\n",
       "    </tr>\n",
       "  </tbody>\n",
       "</table>\n",
       "</div>"
      ],
      "text/plain": [
       "   Unnamed: 0                                               text\n",
       "0           0  Donald Trump just couldn t wish all Americans ...\n",
       "1           1  House Intelligence Committee Chairman Devin Nu...\n",
       "2           2  On Friday, it was revealed that former Milwauk...\n",
       "3           3  On Christmas day, Donald Trump announced that ...\n",
       "4           4  Pope Francis used his annual Christmas Day mes..."
      ]
     },
     "execution_count": 4,
     "metadata": {},
     "output_type": "execute_result"
    }
   ],
   "source": [
    "# Load the data\n",
    "# load csv files to dataframes\n",
    "df_fake=pd.read_csv('../datasets/dataset2/archive/DataSet_Misinfo_FAKE.csv')\n",
    "df_real=pd.read_csv('../datasets/dataset2/archive/DataSet_Misinfo_TRUE.csv')\n",
    "df_fake.head()"
   ]
  },
  {
   "cell_type": "code",
   "execution_count": 5,
   "id": "2e42bcd4-63c8-4e80-b7db-a33016b6a17b",
   "metadata": {},
   "outputs": [],
   "source": [
    "# choose the necessary columns \n",
    "df_fake=df_fake.iloc[:,0:2]\n",
    "df_real=df_real.iloc[:,0:2]"
   ]
  },
  {
   "cell_type": "code",
   "execution_count": 6,
   "id": "2da073f0-881a-4e0d-9f66-2aa4227fcbe3",
   "metadata": {},
   "outputs": [],
   "source": [
    "# label the class values\n",
    "df_fake['class']=0\n",
    "df_real['class']=1"
   ]
  },
  {
   "cell_type": "code",
   "execution_count": 7,
   "id": "572009d4-c5eb-428e-8f7a-9dd13bfd6cc9",
   "metadata": {},
   "outputs": [
    {
     "name": "stdout",
     "output_type": "stream",
     "text": [
      "(78617, 3)\n",
      "78617\n"
     ]
    }
   ],
   "source": [
    "# concatenate 2 dataframes\n",
    "df=pd.concat([df_fake, df_real], ignore_index=True, sort=False )\n",
    "\n",
    "print(df.shape)\n",
    "print(len(df))\n",
    "#merge \"title\" and \"text\" values in same column\n",
    "df.insert(0,column=\"title_text\", value=df['text'] + \" \" + df['text']) \n",
    "#remove previous columns that are merged\n",
    "df.drop (['text', 'text'], inplace=True, axis=1)"
   ]
  },
  {
   "cell_type": "code",
   "execution_count": 8,
   "id": "5496686b-5eb7-4462-964f-065cda8948bd",
   "metadata": {},
   "outputs": [
    {
     "data": {
      "text/html": [
       "<div>\n",
       "<style scoped>\n",
       "    .dataframe tbody tr th:only-of-type {\n",
       "        vertical-align: middle;\n",
       "    }\n",
       "\n",
       "    .dataframe tbody tr th {\n",
       "        vertical-align: top;\n",
       "    }\n",
       "\n",
       "    .dataframe thead th {\n",
       "        text-align: right;\n",
       "    }\n",
       "</style>\n",
       "<table border=\"1\" class=\"dataframe\">\n",
       "  <thead>\n",
       "    <tr style=\"text-align: right;\">\n",
       "      <th></th>\n",
       "      <th>title_text</th>\n",
       "      <th>Unnamed: 0</th>\n",
       "      <th>class</th>\n",
       "    </tr>\n",
       "  </thead>\n",
       "  <tbody>\n",
       "    <tr>\n",
       "      <th>0</th>\n",
       "      <td>Donald Trump just couldn t wish all Americans ...</td>\n",
       "      <td>0</td>\n",
       "      <td>0</td>\n",
       "    </tr>\n",
       "    <tr>\n",
       "      <th>1</th>\n",
       "      <td>House Intelligence Committee Chairman Devin Nu...</td>\n",
       "      <td>1</td>\n",
       "      <td>0</td>\n",
       "    </tr>\n",
       "    <tr>\n",
       "      <th>2</th>\n",
       "      <td>On Friday, it was revealed that former Milwauk...</td>\n",
       "      <td>2</td>\n",
       "      <td>0</td>\n",
       "    </tr>\n",
       "    <tr>\n",
       "      <th>3</th>\n",
       "      <td>On Christmas day, Donald Trump announced that ...</td>\n",
       "      <td>3</td>\n",
       "      <td>0</td>\n",
       "    </tr>\n",
       "    <tr>\n",
       "      <th>4</th>\n",
       "      <td>Pope Francis used his annual Christmas Day mes...</td>\n",
       "      <td>4</td>\n",
       "      <td>0</td>\n",
       "    </tr>\n",
       "  </tbody>\n",
       "</table>\n",
       "</div>"
      ],
      "text/plain": [
       "                                          title_text  Unnamed: 0  class\n",
       "0  Donald Trump just couldn t wish all Americans ...           0      0\n",
       "1  House Intelligence Committee Chairman Devin Nu...           1      0\n",
       "2  On Friday, it was revealed that former Milwauk...           2      0\n",
       "3  On Christmas day, Donald Trump announced that ...           3      0\n",
       "4  Pope Francis used his annual Christmas Day mes...           4      0"
      ]
     },
     "execution_count": 8,
     "metadata": {},
     "output_type": "execute_result"
    }
   ],
   "source": [
    "df.head()"
   ]
  },
  {
   "cell_type": "code",
   "execution_count": 9,
   "id": "919afda3-b7e5-469b-aac0-c79a7df4e486",
   "metadata": {},
   "outputs": [
    {
     "data": {
      "text/plain": [
       "(78617, 3)"
      ]
     },
     "execution_count": 9,
     "metadata": {},
     "output_type": "execute_result"
    }
   ],
   "source": [
    "# Show shape of the dataset\n",
    "df.shape"
   ]
  },
  {
   "cell_type": "code",
   "execution_count": 10,
   "id": "2c4e5f86-8c60-44a1-8753-24310bd4f998",
   "metadata": {},
   "outputs": [
    {
     "name": "stdout",
     "output_type": "stream",
     "text": [
      "<class 'pandas.core.frame.DataFrame'>\n",
      "RangeIndex: 78617 entries, 0 to 78616\n",
      "Data columns (total 3 columns):\n",
      " #   Column      Non-Null Count  Dtype \n",
      "---  ------      --------------  ----- \n",
      " 0   title_text  78588 non-null  object\n",
      " 1   Unnamed: 0  78617 non-null  int64 \n",
      " 2   class       78617 non-null  int64 \n",
      "dtypes: int64(2), object(1)\n",
      "memory usage: 1.8+ MB\n"
     ]
    }
   ],
   "source": [
    "# Show some info about dataset\n",
    "df.info()"
   ]
  },
  {
   "cell_type": "code",
   "execution_count": 11,
   "id": "5cf78c24-4b81-47b4-9892-ee3d3116dfb6",
   "metadata": {},
   "outputs": [],
   "source": [
    "# Take a copy from original training data\n",
    "df_train_proc = deepcopy(df)"
   ]
  },
  {
   "cell_type": "code",
   "execution_count": 12,
   "id": "dbb42ceb-874d-4606-a97c-f37a830a3003",
   "metadata": {},
   "outputs": [
    {
     "data": {
      "text/plain": [
       "title_text    29\n",
       "Unnamed: 0     0\n",
       "class          0\n",
       "dtype: int64"
      ]
     },
     "execution_count": 12,
     "metadata": {},
     "output_type": "execute_result"
    }
   ],
   "source": [
    "# Check about missing values to decide if we will make handling for it or not\n",
    "df_train_proc.isnull().sum()"
   ]
  },
  {
   "cell_type": "code",
   "execution_count": 13,
   "id": "ae2ffabf-44df-4a3f-8596-b65c5dce64a4",
   "metadata": {},
   "outputs": [
    {
     "data": {
      "text/plain": [
       "(78588, 3)"
      ]
     },
     "execution_count": 13,
     "metadata": {},
     "output_type": "execute_result"
    }
   ],
   "source": [
    "# Drop rows that contain at least one none value based on the title and text columns\n",
    "df_train_proc = df_train_proc.dropna(subset=['title_text', 'class'])\n",
    "df_train_proc.shape"
   ]
  },
  {
   "cell_type": "code",
   "execution_count": 14,
   "id": "cf8a04c9-606e-4b5a-88d7-2bcc6f7988b3",
   "metadata": {},
   "outputs": [
    {
     "data": {
      "text/plain": [
       "title_text    0\n",
       "Unnamed: 0    0\n",
       "class         0\n",
       "dtype: int64"
      ]
     },
     "execution_count": 14,
     "metadata": {},
     "output_type": "execute_result"
    }
   ],
   "source": [
    "# Check about none values after handling missing values\n",
    "df_train_proc.isnull().sum()"
   ]
  },
  {
   "cell_type": "code",
   "execution_count": 15,
   "id": "79d5d6c0-a1c4-487f-b21a-8aada27efa0f",
   "metadata": {},
   "outputs": [
    {
     "name": "stdout",
     "output_type": "stream",
     "text": [
      "class\n",
      "0    43642\n",
      "1    34946\n",
      "Name: count, dtype: int64\n"
     ]
    },
    {
     "data": {
      "image/png": "[encoded data removed]",
      "text/plain": [
       "<Figure size 640x480 with 1 Axes>"
      ]
     },
     "metadata": {},
     "output_type": "display_data"
    }
   ],
   "source": [
    "# Visualize label values to check about balancing of 0's and 1's\n",
    "counts = df_train_proc['class'].value_counts()\n",
    "print(counts)\n",
    "\n",
    "# Plot result of each group\n",
    "plt.bar(counts.index, counts)\n",
    "plt.show()"
   ]
  },
  {
   "cell_type": "code",
   "execution_count": 16,
   "id": "57ffddc6-854b-4a96-a425-41d0504678f6",
   "metadata": {},
   "outputs": [
    {
     "name": "stdout",
     "output_type": "stream",
     "text": [
      "X shape (78588,), Y shape (78588,)\n"
     ]
    }
   ],
   "source": [
    "# Split data into input and label data\n",
    "X = df_train_proc['title_text']\n",
    "Y = df_train_proc['class']\n",
    "print(f'X shape {X.shape}, Y shape {Y.shape}')"
   ]
  },
  {
   "cell_type": "code",
   "execution_count": 17,
   "id": "c9b418e6-9b1e-4bf8-b96e-a7d9c20c58b4",
   "metadata": {},
   "outputs": [],
   "source": [
    "# Create porter stemmer to stemming data\n",
    "stemmer = PorterStemmer()"
   ]
  },
  {
   "cell_type": "code",
   "execution_count": 18,
   "id": "a40d1524-2036-4d89-99fc-52d98c565d90",
   "metadata": {},
   "outputs": [],
   "source": [
    "# Create function to stem all words in the content\n",
    "def stemming(content, stemmer):\n",
    "    # Work on the alphabetical words only\n",
    "    stemmed_content = re.sub('[^a-zA-Z]', ' ', content)\n",
    "    \n",
    "    # Convert sentences into lower case sentences\n",
    "    stemmed_content = stemmed_content.lower()\n",
    "    # Split sentences into words\n",
    "    stemmed_content = stemmed_content.split()\n",
    "    \n",
    "    # Get English stopwords\n",
    "    stop_words = set(stopwords.words('english'))\n",
    "    # Stem words\n",
    "    stemmed_content = [stemmer.stem(word) for word in stemmed_content if word not in stop_words]\n",
    "    # Join words again\n",
    "    stemmed_content = ' '.join(stemmed_content)\n",
    "    \n",
    "    return stemmed_content"
   ]
  },
  {
   "cell_type": "code",
   "execution_count": 19,
   "id": "d0bd87ff-9022-4d01-bafc-b726f0ef25ea",
   "metadata": {},
   "outputs": [
    {
     "data": {
      "text/plain": [
       "0    Donald Trump just couldn t wish all Americans ...\n",
       "1    House Intelligence Committee Chairman Devin Nu...\n",
       "2    On Friday, it was revealed that former Milwauk...\n",
       "3    On Christmas day, Donald Trump announced that ...\n",
       "4    Pope Francis used his annual Christmas Day mes...\n",
       "Name: title_text, dtype: object"
      ]
     },
     "execution_count": 19,
     "metadata": {},
     "output_type": "execute_result"
    }
   ],
   "source": [
    "# Shwo the input data before stemming\n",
    "X.head()"
   ]
  },
  {
   "cell_type": "code",
   "execution_count": 20,
   "id": "b809ed85-895c-434e-8219-1a2e535c809d",
   "metadata": {},
   "outputs": [],
   "source": [
    "# Apply stemmer on the input data\n",
    "X_stemmed = X.apply(lambda x: stemming(x, stemmer))"
   ]
  },
  {
   "cell_type": "code",
   "execution_count": 21,
   "id": "3b9697dd-2c42-42d9-886f-47b4944fce1a",
   "metadata": {},
   "outputs": [
    {
     "data": {
      "text/plain": [
       "0    donald trump wish american happi new year leav...\n",
       "1    hous intellig committe chairman devin nune go ...\n",
       "2    friday reveal former milwauke sheriff david cl...\n",
       "3    christma day donald trump announc would back w...\n",
       "4    pope franci use annual christma day messag reb...\n",
       "Name: title_text, dtype: object"
      ]
     },
     "execution_count": 21,
     "metadata": {},
     "output_type": "execute_result"
    }
   ],
   "source": [
    "# Shwo the input data after stemming\n",
    "X_stemmed.head()"
   ]
  },
  {
   "cell_type": "code",
   "execution_count": 22,
   "id": "294dd9fe-cb7c-40f4-b9ed-7e06a6f926a4",
   "metadata": {},
   "outputs": [
    {
     "name": "stdout",
     "output_type": "stream",
     "text": [
      "x train shape (7858,), x test shape (70730,)\n",
      "y train shape (7858,), y test shape (70730,)\n"
     ]
    }
   ],
   "source": [
    "# Split data into train and test data\n",
    "x_train, x_test, y_train, y_test = train_test_split(X_stemmed, Y, train_size = 0.1, random_state = 42)\n",
    "print(f'x train shape {x_train.shape}, x test shape {x_test.shape}')\n",
    "print(f'y train shape {y_train.shape}, y test shape {y_test.shape}')"
   ]
  },
  {
   "cell_type": "code",
   "execution_count": 23,
   "id": "71b9762f-ee6c-4d27-b852-51514a0a0790",
   "metadata": {},
   "outputs": [],
   "source": [
    "# Create vectorizer \n",
    "vectorizer = TfidfVectorizer()\n",
    "\n",
    "# Fit and transform data\n",
    "X_train_vectorized = vectorizer.fit_transform(x_train)\n",
    "X_test_vectorized = vectorizer.transform(x_test)"
   ]
  },
  {
   "cell_type": "code",
   "execution_count": 24,
   "id": "f5c2d108-ec3b-4041-bdb1-a68e67f4fa5b",
   "metadata": {},
   "outputs": [
    {
     "name": "stdout",
     "output_type": "stream",
     "text": [
      "  (0, 10289)\t0.2523024754295766\n",
      "  (0, 31073)\t0.021525492738863377\n",
      "  (0, 41004)\t0.025329782145596336\n",
      "  (0, 3852)\t0.029104278799741364\n",
      "  (0, 8064)\t0.1739712205847769\n",
      "  (0, 15558)\t0.07090497919357425\n",
      "  (0, 37518)\t0.013148611953044604\n",
      "  (0, 43458)\t0.03824558480169154\n",
      "  (0, 48300)\t0.01266168056882706\n",
      "  (0, 28882)\t0.010981314503985188\n",
      "  (0, 8487)\t0.012367523829938061\n",
      "  (0, 14408)\t0.030287486048244938\n",
      "  (0, 17126)\t0.08237113290374128\n",
      "  (0, 34165)\t0.06273800129902872\n",
      "  (0, 30550)\t0.013865364801539866\n",
      "  (0, 38968)\t0.015548578008139526\n",
      "  (0, 20864)\t0.1310200176021586\n",
      "  (0, 17546)\t0.02728944391746311\n",
      "  (0, 1547)\t0.033498853679229786\n",
      "  (0, 8888)\t0.12469342737457885\n",
      "  (0, 45007)\t0.027686696857947453\n",
      "  (0, 49018)\t0.016037453936405956\n",
      "  (0, 747)\t0.02803798782354644\n",
      "  (0, 25487)\t0.023321957845056154\n",
      "  (0, 43827)\t0.04115642574546156\n",
      "  :\t:\n",
      "  (7857, 20959)\t0.05480736922830229\n",
      "  (7857, 44834)\t0.06084973139224808\n",
      "  (7857, 34344)\t0.053940642932636326\n",
      "  (7857, 48296)\t0.08391573866938343\n",
      "  (7857, 46385)\t0.12084346020963671\n",
      "  (7857, 10062)\t0.06063373062603935\n",
      "  (7857, 960)\t0.06106988627298198\n",
      "  (7857, 38601)\t0.0666975103845901\n",
      "  (7857, 5271)\t0.06152331984185693\n",
      "  (7857, 21031)\t0.27557688504882083\n",
      "  (7857, 43464)\t0.13267948122355913\n",
      "  (7857, 43038)\t0.0639627472527117\n",
      "  (7857, 11762)\t0.07927409535509111\n",
      "  (7857, 6452)\t0.05581514868922769\n",
      "  (7857, 20233)\t0.06633974061177957\n",
      "  (7857, 21377)\t0.49036077564670144\n",
      "  (7857, 48632)\t0.08238711121555474\n",
      "  (7857, 33217)\t0.06440029226806156\n",
      "  (7857, 126)\t0.08391573866938343\n",
      "  (7857, 7495)\t0.08568040955747112\n",
      "  (7857, 38254)\t0.07080660647044155\n",
      "  (7857, 43586)\t0.07927409535509111\n",
      "  (7857, 3906)\t0.09570251387754648\n",
      "  (7857, 21596)\t0.10155029286988852\n",
      "  (7857, 16655)\t0.10619193618418082\n"
     ]
    }
   ],
   "source": [
    "# Show input data after the vectorization process\n",
    "print(X_train_vectorized)"
   ]
  },
  {
   "cell_type": "code",
   "execution_count": 25,
   "id": "3cb125ec-5936-4ea2-8772-9493c1135815",
   "metadata": {},
   "outputs": [],
   "source": [
    "# Function to perform the model functionalities\n",
    "def fit_predict(model, x_train, y_train, x_test, y_test):\n",
    "    classifier = model\n",
    "    \n",
    "    # Make model fit data\n",
    "    classifier.fit(x_train, y_train)\n",
    "    \n",
    "    # Get Score on train and test data\n",
    "    train_score = classifier.score(x_train, y_train)\n",
    "    test_score = classifier.score(x_test, y_test)\n",
    "    print(f'train score is {train_score}, test score is {test_score}')\n",
    "    \n",
    "    # Make model predict on test data\n",
    "    test_prediction = classifier.predict(x_test)\n",
    "    # Get accuracy, confusion matrix and classification report\n",
    "    accuracy = accuracy_score(y_test, test_prediction) \n",
    "    cf_matrix = confusion_matrix(y_test, test_prediction)\n",
    "    cl_report = classification_report(y_test, test_prediction)\n",
    "    \n",
    "    # Plot confusion matrix\n",
    "    plt.figure(figsize=(7,7))\n",
    "    sns.heatmap(cf_matrix, annot=True, cmap='Blues', fmt='g')\n",
    "    plt.xlabel('Predicted')\n",
    "    plt.ylabel('Actual')\n",
    "    plt.title('Confusion Matrix')\n",
    "    plt.show()\n",
    "    \n",
    "    # Show accuracy and classification report\n",
    "    print(f'accuracy: {accuracy}\\nclassification report:\\n{cl_report}', '\\n\\n')\n",
    "    \n",
    "    return classifier"
   ]
  },
  {
   "cell_type": "code",
   "execution_count": 26,
   "id": "7678fde9-9041-4ac2-b66c-c7728354aa20",
   "metadata": {},
   "outputs": [],
   "source": [
    "# Put all required models that can fit this problem\n",
    "models = {\n",
    "    'LogisticRegression': LogisticRegression(),\n",
    "    'RandomForestClassifier': RandomForestClassifier(),\n",
    "    'LinearSVC': LinearSVC(),\n",
    "    'DecisionTreeClassifier': DecisionTreeClassifier(),\n",
    "    'GradientBoostingClassifier': GradientBoostingClassifier()   \n",
    "}"
   ]
  },
  {
   "cell_type": "code",
   "execution_count": 27,
   "id": "623a7d7e-9d8e-428b-b92f-d912514c798e",
   "metadata": {},
   "outputs": [
    {
     "name": "stdout",
     "output_type": "stream",
     "text": [
      "LogisticRegression:\n",
      "\n",
      "train score is 0.9420972257571901, test score is 0.9053584052028842\n"
     ]
    },
    {
     "data": {
      "image/png": "[encoded data removed]",
      "text/plain": [
       "<Figure size 700x700 with 2 Axes>"
      ]
     },
     "metadata": {},
     "output_type": "display_data"
    },
    {
     "name": "stdout",
     "output_type": "stream",
     "text": [
      "accuracy: 0.9053584052028842\n",
      "classification report:\n",
      "              precision    recall  f1-score   support\n",
      "\n",
      "           0       0.89      0.94      0.92     39175\n",
      "           1       0.92      0.86      0.89     31555\n",
      "\n",
      "    accuracy                           0.91     70730\n",
      "   macro avg       0.91      0.90      0.90     70730\n",
      "weighted avg       0.91      0.91      0.90     70730\n",
      " \n",
      "\n",
      "\n",
      "RandomForestClassifier:\n",
      "\n",
      "train score is 1.0, test score is 0.8938215750035345\n"
     ]
    },
    {
     "data": {
      "image/png": "[encoded data removed]",
      "text/plain": [
       "<Figure size 700x700 with 2 Axes>"
      ]
     },
     "metadata": {},
     "output_type": "display_data"
    },
    {
     "name": "stdout",
     "output_type": "stream",
     "text": [
      "accuracy: 0.8938215750035345\n",
      "classification report:\n",
      "              precision    recall  f1-score   support\n",
      "\n",
      "           0       0.88      0.94      0.91     39175\n",
      "           1       0.92      0.84      0.88     31555\n",
      "\n",
      "    accuracy                           0.89     70730\n",
      "   macro avg       0.90      0.89      0.89     70730\n",
      "weighted avg       0.90      0.89      0.89     70730\n",
      " \n",
      "\n",
      "\n",
      "LinearSVC:\n",
      "\n",
      "train score is 0.9972003054212267, test score is 0.9212922380885056\n"
     ]
    },
    {
     "data": {
      "image/png": "[encoded data removed]",
      "text/plain": [
       "<Figure size 700x700 with 2 Axes>"
      ]
     },
     "metadata": {},
     "output_type": "display_data"
    },
    {
     "name": "stdout",
     "output_type": "stream",
     "text": [
      "accuracy: 0.9212922380885056\n",
      "classification report:\n",
      "              precision    recall  f1-score   support\n",
      "\n",
      "           0       0.92      0.94      0.93     39175\n",
      "           1       0.92      0.90      0.91     31555\n",
      "\n",
      "    accuracy                           0.92     70730\n",
      "   macro avg       0.92      0.92      0.92     70730\n",
      "weighted avg       0.92      0.92      0.92     70730\n",
      " \n",
      "\n",
      "\n",
      "DecisionTreeClassifier:\n",
      "\n",
      "train score is 1.0, test score is 0.8398982044394175\n"
     ]
    },
    {
     "data": {
      "image/png": "[encoded data removed]",
      "text/plain": [
       "<Figure size 700x700 with 2 Axes>"
      ]
     },
     "metadata": {},
     "output_type": "display_data"
    },
    {
     "name": "stdout",
     "output_type": "stream",
     "text": [
      "accuracy: 0.8398982044394175\n",
      "classification report:\n",
      "              precision    recall  f1-score   support\n",
      "\n",
      "           0       0.85      0.86      0.86     39175\n",
      "           1       0.82      0.81      0.82     31555\n",
      "\n",
      "    accuracy                           0.84     70730\n",
      "   macro avg       0.84      0.84      0.84     70730\n",
      "weighted avg       0.84      0.84      0.84     70730\n",
      " \n",
      "\n",
      "\n",
      "GradientBoostingClassifier:\n",
      "\n",
      "train score is 0.9124459149910918, test score is 0.8893680192280503\n"
     ]
    },
    {
     "data": {
      "image/png": "[encoded data removed]",
      "text/plain": [
       "<Figure size 700x700 with 2 Axes>"
      ]
     },
     "metadata": {},
     "output_type": "display_data"
    },
    {
     "name": "stdout",
     "output_type": "stream",
     "text": [
      "accuracy: 0.8893680192280503\n",
      "classification report:\n",
      "              precision    recall  f1-score   support\n",
      "\n",
      "           0       0.88      0.93      0.90     39175\n",
      "           1       0.90      0.84      0.87     31555\n",
      "\n",
      "    accuracy                           0.89     70730\n",
      "   macro avg       0.89      0.88      0.89     70730\n",
      "weighted avg       0.89      0.89      0.89     70730\n",
      " \n",
      "\n",
      "\n"
     ]
    }
   ],
   "source": [
    "trained_models = {}\n",
    "for name, model in models.items():\n",
    "    print(f'{name}:\\n')\n",
    "    model = fit_predict(model, X_train_vectorized, y_train, X_test_vectorized, y_test)\n",
    "    trained_models[name] = deepcopy(model)"
   ]
  },
  {
   "cell_type": "code",
   "execution_count": null,
   "id": "d747aaab-6873-4b1c-b7f7-5c70d6168362",
   "metadata": {},
   "outputs": [],
   "source": []
  }
 ],
 "metadata": {
  "kernelspec": {
   "display_name": "Python 3 (ipykernel)",
   "language": "python",
   "name": "python3"
  },
  "language_info": {
   "codemirror_mode": {
    "name": "ipython",
    "version": 3
   },
   "file_extension": ".py",
   "mimetype": "text/x-python",
   "name": "python",
   "nbconvert_exporter": "python",
   "pygments_lexer": "ipython3",
   "version": "3.12.3"
  }
 },
 "nbformat": 4,
 "nbformat_minor": 5
}
