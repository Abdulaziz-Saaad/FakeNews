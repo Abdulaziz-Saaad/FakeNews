{
 "cells": [
  {
   "cell_type": "code",
   "execution_count": 5,
   "id": "00299edd-b6ac-4dde-933c-833f9969a00d",
   "metadata": {},
   "outputs": [],
   "source": [
    "import pandas as pd\n",
    "import numpy as np\n",
    "import matplotlib.pyplot as plt\n",
    "import seaborn as sns\n",
    "import re\n",
    "from copy import deepcopy\n",
    "from nltk.corpus import stopwords\n",
    "from nltk.stem.porter import PorterStemmer\n",
    "from sklearn.feature_extraction.text import TfidfVectorizer\n",
    "from sklearn.model_selection import train_test_split\n",
    "from sklearn.linear_model import LogisticRegression\n",
    "from sklearn.ensemble import RandomForestClassifier\n",
    "from sklearn.ensemble import  GradientBoostingClassifier\n",
    "from sklearn.tree import DecisionTreeClassifier\n",
    "from sklearn.svm import LinearSVC\n",
    "from sklearn.metrics import accuracy_score, confusion_matrix, classification_report\n",
    "import joblib"
   ]
  },
  {
   "cell_type": "code",
   "execution_count": 6,
   "id": "92a4ba12-4b36-480d-b34e-07f37d3ae66f",
   "metadata": {},
   "outputs": [
    {
     "name": "stderr",
     "output_type": "stream",
     "text": [
      "[nltk_data] Downloading package stopwords to /Users/roman/nltk_data...\n",
      "[nltk_data]   Package stopwords is already up-to-date!\n"
     ]
    },
    {
     "data": {
      "text/plain": [
       "True"
      ]
     },
     "execution_count": 6,
     "metadata": {},
     "output_type": "execute_result"
    }
   ],
   "source": [
    "# Download stopwords from nltk\n",
    "import nltk\n",
    "nltk.download('stopwords')"
   ]
  },
  {
   "cell_type": "code",
   "execution_count": 7,
   "id": "ffd26ce4-ba3a-408e-9de7-8f2f2cd22fbb",
   "metadata": {},
   "outputs": [
    {
     "data": {
      "text/plain": [
       "['i', 'me', 'my', 'myself', 'we', 'our', 'ours', 'ourselves', 'you', \"you're\"]"
      ]
     },
     "execution_count": 7,
     "metadata": {},
     "output_type": "execute_result"
    }
   ],
   "source": [
    "# Check downloaded stopwords in english\n",
    "stopwords.words('english')[:10]"
   ]
  },
  {
   "cell_type": "code",
   "execution_count": 8,
   "id": "0ddce7b7-13a9-4c46-bfe5-4c8151a85d48",
   "metadata": {},
   "outputs": [
    {
     "data": {
      "text/html": [
       "<div>\n",
       "<style scoped>\n",
       "    .dataframe tbody tr th:only-of-type {\n",
       "        vertical-align: middle;\n",
       "    }\n",
       "\n",
       "    .dataframe tbody tr th {\n",
       "        vertical-align: top;\n",
       "    }\n",
       "\n",
       "    .dataframe thead th {\n",
       "        text-align: right;\n",
       "    }\n",
       "</style>\n",
       "<table border=\"1\" class=\"dataframe\">\n",
       "  <thead>\n",
       "    <tr style=\"text-align: right;\">\n",
       "      <th></th>\n",
       "      <th>title</th>\n",
       "      <th>text</th>\n",
       "      <th>subject</th>\n",
       "      <th>date</th>\n",
       "    </tr>\n",
       "  </thead>\n",
       "  <tbody>\n",
       "    <tr>\n",
       "      <th>0</th>\n",
       "      <td>Donald Trump Sends Out Embarrassing New Year’...</td>\n",
       "      <td>Donald Trump just couldn t wish all Americans ...</td>\n",
       "      <td>News</td>\n",
       "      <td>December 31, 2017</td>\n",
       "    </tr>\n",
       "    <tr>\n",
       "      <th>1</th>\n",
       "      <td>Drunk Bragging Trump Staffer Started Russian ...</td>\n",
       "      <td>House Intelligence Committee Chairman Devin Nu...</td>\n",
       "      <td>News</td>\n",
       "      <td>December 31, 2017</td>\n",
       "    </tr>\n",
       "    <tr>\n",
       "      <th>2</th>\n",
       "      <td>Sheriff David Clarke Becomes An Internet Joke...</td>\n",
       "      <td>On Friday, it was revealed that former Milwauk...</td>\n",
       "      <td>News</td>\n",
       "      <td>December 30, 2017</td>\n",
       "    </tr>\n",
       "    <tr>\n",
       "      <th>3</th>\n",
       "      <td>Trump Is So Obsessed He Even Has Obama’s Name...</td>\n",
       "      <td>On Christmas day, Donald Trump announced that ...</td>\n",
       "      <td>News</td>\n",
       "      <td>December 29, 2017</td>\n",
       "    </tr>\n",
       "    <tr>\n",
       "      <th>4</th>\n",
       "      <td>Pope Francis Just Called Out Donald Trump Dur...</td>\n",
       "      <td>Pope Francis used his annual Christmas Day mes...</td>\n",
       "      <td>News</td>\n",
       "      <td>December 25, 2017</td>\n",
       "    </tr>\n",
       "  </tbody>\n",
       "</table>\n",
       "</div>"
      ],
      "text/plain": [
       "                                               title  \\\n",
       "0   Donald Trump Sends Out Embarrassing New Year’...   \n",
       "1   Drunk Bragging Trump Staffer Started Russian ...   \n",
       "2   Sheriff David Clarke Becomes An Internet Joke...   \n",
       "3   Trump Is So Obsessed He Even Has Obama’s Name...   \n",
       "4   Pope Francis Just Called Out Donald Trump Dur...   \n",
       "\n",
       "                                                text subject  \\\n",
       "0  Donald Trump just couldn t wish all Americans ...    News   \n",
       "1  House Intelligence Committee Chairman Devin Nu...    News   \n",
       "2  On Friday, it was revealed that former Milwauk...    News   \n",
       "3  On Christmas day, Donald Trump announced that ...    News   \n",
       "4  Pope Francis used his annual Christmas Day mes...    News   \n",
       "\n",
       "                date  \n",
       "0  December 31, 2017  \n",
       "1  December 31, 2017  \n",
       "2  December 30, 2017  \n",
       "3  December 29, 2017  \n",
       "4  December 25, 2017  "
      ]
     },
     "execution_count": 8,
     "metadata": {},
     "output_type": "execute_result"
    }
   ],
   "source": [
    "# Load the data\n",
    "# load csv files to dataframes\n",
    "df_fake=pd.read_csv('./archive/Fake.csv')\n",
    "df_real=pd.read_csv('./archive/True.csv')\n",
    "df_fake.head()"
   ]
  },
  {
   "cell_type": "code",
   "execution_count": 9,
   "id": "2e42bcd4-63c8-4e80-b7db-a33016b6a17b",
   "metadata": {},
   "outputs": [],
   "source": [
    "# choose the necessary columns \n",
    "df_fake=df_fake.iloc[:,0:2]\n",
    "df_real=df_real.iloc[:,0:2]"
   ]
  },
  {
   "cell_type": "code",
   "execution_count": 10,
   "id": "2da073f0-881a-4e0d-9f66-2aa4227fcbe3",
   "metadata": {},
   "outputs": [],
   "source": [
    "# label the class values\n",
    "df_fake['class']=0\n",
    "df_real['class']=1"
   ]
  },
  {
   "cell_type": "code",
   "execution_count": 11,
   "id": "572009d4-c5eb-428e-8f7a-9dd13bfd6cc9",
   "metadata": {},
   "outputs": [
    {
     "name": "stdout",
     "output_type": "stream",
     "text": [
      "(44898, 3)\n",
      "44898\n"
     ]
    }
   ],
   "source": [
    "# concatenate 2 dataframes\n",
    "df=pd.concat([df_fake, df_real], ignore_index=True, sort=False )\n",
    "\n",
    "print(df.shape)\n",
    "print(len(df))\n",
    "#merge \"title\" and \"text\" values in same column\n",
    "df.insert(0,column=\"title_text\", value=df['text'] + \" \" + df['text']) \n",
    "#remove previous columns that are merged\n",
    "df.drop (['text', 'text'], inplace=True, axis=1)"
   ]
  },
  {
   "cell_type": "code",
   "execution_count": 12,
   "id": "5496686b-5eb7-4462-964f-065cda8948bd",
   "metadata": {},
   "outputs": [
    {
     "data": {
      "text/html": [
       "<div>\n",
       "<style scoped>\n",
       "    .dataframe tbody tr th:only-of-type {\n",
       "        vertical-align: middle;\n",
       "    }\n",
       "\n",
       "    .dataframe tbody tr th {\n",
       "        vertical-align: top;\n",
       "    }\n",
       "\n",
       "    .dataframe thead th {\n",
       "        text-align: right;\n",
       "    }\n",
       "</style>\n",
       "<table border=\"1\" class=\"dataframe\">\n",
       "  <thead>\n",
       "    <tr style=\"text-align: right;\">\n",
       "      <th></th>\n",
       "      <th>title_text</th>\n",
       "      <th>title</th>\n",
       "      <th>class</th>\n",
       "    </tr>\n",
       "  </thead>\n",
       "  <tbody>\n",
       "    <tr>\n",
       "      <th>0</th>\n",
       "      <td>Donald Trump just couldn t wish all Americans ...</td>\n",
       "      <td>Donald Trump Sends Out Embarrassing New Year’...</td>\n",
       "      <td>0</td>\n",
       "    </tr>\n",
       "    <tr>\n",
       "      <th>1</th>\n",
       "      <td>House Intelligence Committee Chairman Devin Nu...</td>\n",
       "      <td>Drunk Bragging Trump Staffer Started Russian ...</td>\n",
       "      <td>0</td>\n",
       "    </tr>\n",
       "    <tr>\n",
       "      <th>2</th>\n",
       "      <td>On Friday, it was revealed that former Milwauk...</td>\n",
       "      <td>Sheriff David Clarke Becomes An Internet Joke...</td>\n",
       "      <td>0</td>\n",
       "    </tr>\n",
       "    <tr>\n",
       "      <th>3</th>\n",
       "      <td>On Christmas day, Donald Trump announced that ...</td>\n",
       "      <td>Trump Is So Obsessed He Even Has Obama’s Name...</td>\n",
       "      <td>0</td>\n",
       "    </tr>\n",
       "    <tr>\n",
       "      <th>4</th>\n",
       "      <td>Pope Francis used his annual Christmas Day mes...</td>\n",
       "      <td>Pope Francis Just Called Out Donald Trump Dur...</td>\n",
       "      <td>0</td>\n",
       "    </tr>\n",
       "  </tbody>\n",
       "</table>\n",
       "</div>"
      ],
      "text/plain": [
       "                                          title_text  \\\n",
       "0  Donald Trump just couldn t wish all Americans ...   \n",
       "1  House Intelligence Committee Chairman Devin Nu...   \n",
       "2  On Friday, it was revealed that former Milwauk...   \n",
       "3  On Christmas day, Donald Trump announced that ...   \n",
       "4  Pope Francis used his annual Christmas Day mes...   \n",
       "\n",
       "                                               title  class  \n",
       "0   Donald Trump Sends Out Embarrassing New Year’...      0  \n",
       "1   Drunk Bragging Trump Staffer Started Russian ...      0  \n",
       "2   Sheriff David Clarke Becomes An Internet Joke...      0  \n",
       "3   Trump Is So Obsessed He Even Has Obama’s Name...      0  \n",
       "4   Pope Francis Just Called Out Donald Trump Dur...      0  "
      ]
     },
     "execution_count": 12,
     "metadata": {},
     "output_type": "execute_result"
    }
   ],
   "source": [
    "df.head()"
   ]
  },
  {
   "cell_type": "code",
   "execution_count": 13,
   "id": "919afda3-b7e5-469b-aac0-c79a7df4e486",
   "metadata": {},
   "outputs": [
    {
     "data": {
      "text/plain": [
       "(44898, 3)"
      ]
     },
     "execution_count": 13,
     "metadata": {},
     "output_type": "execute_result"
    }
   ],
   "source": [
    "# Show shape of the dataset\n",
    "df.shape"
   ]
  },
  {
   "cell_type": "code",
   "execution_count": 14,
   "id": "2c4e5f86-8c60-44a1-8753-24310bd4f998",
   "metadata": {},
   "outputs": [
    {
     "name": "stdout",
     "output_type": "stream",
     "text": [
      "<class 'pandas.core.frame.DataFrame'>\n",
      "RangeIndex: 44898 entries, 0 to 44897\n",
      "Data columns (total 3 columns):\n",
      " #   Column      Non-Null Count  Dtype \n",
      "---  ------      --------------  ----- \n",
      " 0   title_text  44898 non-null  object\n",
      " 1   title       44898 non-null  object\n",
      " 2   class       44898 non-null  int64 \n",
      "dtypes: int64(1), object(2)\n",
      "memory usage: 1.0+ MB\n"
     ]
    }
   ],
   "source": [
    "# Show some info about dataset\n",
    "df.info()"
   ]
  },
  {
   "cell_type": "code",
   "execution_count": 15,
   "id": "5cf78c24-4b81-47b4-9892-ee3d3116dfb6",
   "metadata": {},
   "outputs": [],
   "source": [
    "# Take a copy from original training data\n",
    "df_train_proc = deepcopy(df)"
   ]
  },
  {
   "cell_type": "code",
   "execution_count": 16,
   "id": "dbb42ceb-874d-4606-a97c-f37a830a3003",
   "metadata": {},
   "outputs": [
    {
     "data": {
      "text/plain": [
       "title_text    0\n",
       "title         0\n",
       "class         0\n",
       "dtype: int64"
      ]
     },
     "execution_count": 16,
     "metadata": {},
     "output_type": "execute_result"
    }
   ],
   "source": [
    "# Check about missing values to decide if we will make handling for it or not\n",
    "df_train_proc.isnull().sum()"
   ]
  },
  {
   "cell_type": "code",
   "execution_count": 17,
   "id": "ae2ffabf-44df-4a3f-8596-b65c5dce64a4",
   "metadata": {},
   "outputs": [
    {
     "data": {
      "text/plain": [
       "(44898, 3)"
      ]
     },
     "execution_count": 17,
     "metadata": {},
     "output_type": "execute_result"
    }
   ],
   "source": [
    "# Drop rows that contain at least one none value based on the title and text columns\n",
    "df_train_proc = df_train_proc.dropna(subset=['title_text', 'class'])\n",
    "df_train_proc.shape"
   ]
  },
  {
   "cell_type": "code",
   "execution_count": 18,
   "id": "cf8a04c9-606e-4b5a-88d7-2bcc6f7988b3",
   "metadata": {},
   "outputs": [
    {
     "data": {
      "text/plain": [
       "title_text    0\n",
       "title         0\n",
       "class         0\n",
       "dtype: int64"
      ]
     },
     "execution_count": 18,
     "metadata": {},
     "output_type": "execute_result"
    }
   ],
   "source": [
    "# Check about none values after handling missing values\n",
    "df_train_proc.isnull().sum()"
   ]
  },
  {
   "cell_type": "code",
   "execution_count": 19,
   "id": "79d5d6c0-a1c4-487f-b21a-8aada27efa0f",
   "metadata": {},
   "outputs": [
    {
     "name": "stdout",
     "output_type": "stream",
     "text": [
      "class\n",
      "0    23481\n",
      "1    21417\n",
      "Name: count, dtype: int64\n"
     ]
    },
    {
     "data": {
      "image/png": "[encoded data removed]",
      "text/plain": [
       "<Figure size 640x480 with 1 Axes>"
      ]
     },
     "metadata": {},
     "output_type": "display_data"
    }
   ],
   "source": [
    "# Visualize label values to check about balancing of 0's and 1's\n",
    "counts = df_train_proc['class'].value_counts()\n",
    "print(counts)\n",
    "\n",
    "# Plot result of each group\n",
    "plt.bar(counts.index, counts)\n",
    "plt.show()"
   ]
  },
  {
   "cell_type": "code",
   "execution_count": 20,
   "id": "57ffddc6-854b-4a96-a425-41d0504678f6",
   "metadata": {},
   "outputs": [
    {
     "name": "stdout",
     "output_type": "stream",
     "text": [
      "X shape (44898,), Y shape (44898,)\n"
     ]
    }
   ],
   "source": [
    "# Split data into input and label data\n",
    "X = df_train_proc['title_text']\n",
    "Y = df_train_proc['class']\n",
    "print(f'X shape {X.shape}, Y shape {Y.shape}')"
   ]
  },
  {
   "cell_type": "code",
   "execution_count": 21,
   "id": "c9b418e6-9b1e-4bf8-b96e-a7d9c20c58b4",
   "metadata": {},
   "outputs": [],
   "source": [
    "# Create porter stemmer to stemming data\n",
    "stemmer = PorterStemmer()"
   ]
  },
  {
   "cell_type": "code",
   "execution_count": 22,
   "id": "a40d1524-2036-4d89-99fc-52d98c565d90",
   "metadata": {},
   "outputs": [],
   "source": [
    "# Create function to stem all words in the content\n",
    "def stemming(content, stemmer):\n",
    "    # Work on the alphabetical words only\n",
    "    stemmed_content = re.sub('[^a-zA-Z]', ' ', content)\n",
    "    \n",
    "    # Convert sentences into lower case sentences\n",
    "    stemmed_content = stemmed_content.lower()\n",
    "    # Split sentences into words\n",
    "    stemmed_content = stemmed_content.split()\n",
    "    \n",
    "    # Get English stopwords\n",
    "    stop_words = set(stopwords.words('english'))\n",
    "    # Stem words\n",
    "    stemmed_content = [stemmer.stem(word) for word in stemmed_content if word not in stop_words]\n",
    "    # Join words again\n",
    "    stemmed_content = ' '.join(stemmed_content)\n",
    "    \n",
    "    return stemmed_content"
   ]
  },
  {
   "cell_type": "code",
   "execution_count": 23,
   "id": "d0bd87ff-9022-4d01-bafc-b726f0ef25ea",
   "metadata": {},
   "outputs": [
    {
     "data": {
      "text/plain": [
       "0    Donald Trump just couldn t wish all Americans ...\n",
       "1    House Intelligence Committee Chairman Devin Nu...\n",
       "2    On Friday, it was revealed that former Milwauk...\n",
       "3    On Christmas day, Donald Trump announced that ...\n",
       "4    Pope Francis used his annual Christmas Day mes...\n",
       "Name: title_text, dtype: object"
      ]
     },
     "execution_count": 23,
     "metadata": {},
     "output_type": "execute_result"
    }
   ],
   "source": [
    "# Shwo the input data before stemming\n",
    "X.head()"
   ]
  },
  {
   "cell_type": "code",
   "execution_count": 24,
   "id": "b809ed85-895c-434e-8219-1a2e535c809d",
   "metadata": {},
   "outputs": [],
   "source": [
    "# Apply stemmer on the input data\n",
    "X_stemmed = X.apply(lambda x: stemming(x, stemmer))"
   ]
  },
  {
   "cell_type": "code",
   "execution_count": 25,
   "id": "3b9697dd-2c42-42d9-886f-47b4944fce1a",
   "metadata": {},
   "outputs": [
    {
     "data": {
      "text/plain": [
       "0    donald trump wish american happi new year leav...\n",
       "1    hous intellig committe chairman devin nune go ...\n",
       "2    friday reveal former milwauke sheriff david cl...\n",
       "3    christma day donald trump announc would back w...\n",
       "4    pope franci use annual christma day messag reb...\n",
       "Name: title_text, dtype: object"
      ]
     },
     "execution_count": 25,
     "metadata": {},
     "output_type": "execute_result"
    }
   ],
   "source": [
    "# Shwo the input data after stemming\n",
    "X_stemmed.head()"
   ]
  },
  {
   "cell_type": "code",
   "execution_count": 26,
   "id": "294dd9fe-cb7c-40f4-b9ed-7e06a6f926a4",
   "metadata": {},
   "outputs": [
    {
     "name": "stdout",
     "output_type": "stream",
     "text": [
      "x train shape (4489,), x test shape (40409,)\n",
      "y train shape (4489,), y test shape (40409,)\n"
     ]
    }
   ],
   "source": [
    "# Split data into train and test data\n",
    "x_train, x_test, y_train, y_test = train_test_split(X_stemmed, Y, train_size = 0.1, random_state = 42)\n",
    "print(f'x train shape {x_train.shape}, x test shape {x_test.shape}')\n",
    "print(f'y train shape {y_train.shape}, y test shape {y_test.shape}')"
   ]
  },
  {
   "cell_type": "code",
   "execution_count": 27,
   "id": "71b9762f-ee6c-4d27-b852-51514a0a0790",
   "metadata": {},
   "outputs": [],
   "source": [
    "# Create vectorizer \n",
    "vectorizer = TfidfVectorizer()\n",
    "\n",
    "# Fit and transform data\n",
    "X_train_vectorized = vectorizer.fit_transform(x_train)\n",
    "X_test_vectorized = vectorizer.transform(x_test)"
   ]
  },
  {
   "cell_type": "code",
   "execution_count": 28,
   "id": "f5c2d108-ec3b-4041-bdb1-a68e67f4fa5b",
   "metadata": {},
   "outputs": [
    {
     "name": "stdout",
     "output_type": "stream",
     "text": [
      "  (0, 27044)\t0.3975805420852493\n",
      "  (0, 3944)\t0.13252684736174977\n",
      "  (0, 6290)\t0.07877611576406238\n",
      "  (0, 22694)\t0.1379497232990383\n",
      "  (0, 5349)\t0.20884956237147395\n",
      "  (0, 17546)\t0.16947484525490353\n",
      "  (0, 25843)\t0.3682321084068369\n",
      "  (0, 9361)\t0.10514661253443318\n",
      "  (0, 5371)\t0.20212977905352517\n",
      "  (0, 6551)\t0.06220706028738489\n",
      "  (0, 11812)\t0.10045259159615394\n",
      "  (0, 23378)\t0.053642502087280636\n",
      "  (0, 18699)\t0.09660144989969288\n",
      "  (0, 3120)\t0.10045259159615394\n",
      "  (0, 10052)\t0.1414756033375249\n",
      "  (0, 11352)\t0.1099423838141134\n",
      "  (0, 20273)\t0.11812814801726503\n",
      "  (0, 235)\t0.07152518709021048\n",
      "  (0, 20299)\t0.10220695268070765\n",
      "  (0, 10914)\t0.18875188169548657\n",
      "  (0, 11990)\t0.07626419148255836\n",
      "  (0, 29401)\t0.10871753059473757\n",
      "  (0, 29704)\t0.08930348794575602\n",
      "  (0, 5067)\t0.06597938547619563\n",
      "  (0, 28726)\t0.06014007205104866\n",
      "  :\t:\n",
      "  (4488, 7717)\t0.08415690218922015\n",
      "  (4488, 16871)\t0.07838784189605696\n",
      "  (4488, 21659)\t0.10862081312609269\n",
      "  (4488, 26379)\t0.05725968118950588\n",
      "  (4488, 9396)\t0.20917159373620298\n",
      "  (4488, 12921)\t0.06342336594161817\n",
      "  (4488, 22131)\t0.1199602021932757\n",
      "  (4488, 4482)\t0.10189684435579885\n",
      "  (4488, 4015)\t0.07674103793033796\n",
      "  (4488, 4285)\t0.11615962648643725\n",
      "  (4488, 3249)\t0.06961340347348323\n",
      "  (4488, 27915)\t0.30075012117023947\n",
      "  (4488, 19869)\t0.07763443430371499\n",
      "  (4488, 22125)\t0.0743316348510834\n",
      "  (4488, 3816)\t0.08112220847541979\n",
      "  (4488, 12182)\t0.09948744127654431\n",
      "  (4488, 26561)\t0.11108405651695788\n",
      "  (4488, 23216)\t0.11665895056985429\n",
      "  (4488, 23437)\t0.11108405651695788\n",
      "  (4488, 22500)\t0.11906835364910881\n",
      "  (4488, 22486)\t0.13623986294241877\n",
      "  (4488, 10180)\t0.13623986294241877\n",
      "  (4488, 8898)\t0.13623986294241877\n",
      "  (4488, 26054)\t0.13623986294241877\n",
      "  (4488, 11179)\t0.13623986294241877\n"
     ]
    }
   ],
   "source": [
    "# Show input data after the vectorization process\n",
    "print(X_train_vectorized)"
   ]
  },
  {
   "cell_type": "code",
   "execution_count": 29,
   "id": "3cb125ec-5936-4ea2-8772-9493c1135815",
   "metadata": {},
   "outputs": [],
   "source": [
    "# Function to perform the model functionalities\n",
    "def fit_predict(model, x_train, y_train, x_test, y_test):\n",
    "    classifier = model\n",
    "    \n",
    "    # Make model fit data\n",
    "    classifier.fit(x_train, y_train)\n",
    "    \n",
    "    # Get Score on train and test data\n",
    "    train_score = classifier.score(x_train, y_train)\n",
    "    test_score = classifier.score(x_test, y_test)\n",
    "    print(f'train score is {train_score}, test score is {test_score}')\n",
    "    \n",
    "    # Make model predict on test data\n",
    "    test_prediction = classifier.predict(x_test)\n",
    "    # Get accuracy, confusion matrix and classification report\n",
    "    accuracy = accuracy_score(y_test, test_prediction) \n",
    "    cf_matrix = confusion_matrix(y_test, test_prediction)\n",
    "    cl_report = classification_report(y_test, test_prediction)\n",
    "    \n",
    "    # Plot confusion matrix\n",
    "    plt.figure(figsize=(7,7))\n",
    "    sns.heatmap(cf_matrix, annot=True, cmap='Blues', fmt='g')\n",
    "    plt.xlabel('Predicted')\n",
    "    plt.ylabel('Actual')\n",
    "    plt.title('Confusion Matrix')\n",
    "    plt.show()\n",
    "    \n",
    "    # Show accuracy and classification report\n",
    "    print(f'accuracy: {accuracy}\\nclassification report:\\n{cl_report}', '\\n\\n')\n",
    "    \n",
    "    return classifier"
   ]
  },
  {
   "cell_type": "code",
   "execution_count": 30,
   "id": "73197181-587d-4d5c-a868-02990b034203",
   "metadata": {},
   "outputs": [],
   "source": [
    "# all models\n",
    "models = {\n",
    "    'LogisticRegression': LogisticRegression(),\n",
    "    'RandomForestClassifier': RandomForestClassifier(),\n",
    "    'LinearSVC': LinearSVC(),\n",
    "    'DecisionTreeClassifier': DecisionTreeClassifier(),\n",
    "    'GradientBoostingClassifier': GradientBoostingClassifier()   \n",
    "}"
   ]
  },
  {
   "cell_type": "code",
   "execution_count": 31,
   "id": "b6cdd28c-ae96-4f76-bdb8-f44dc3e96565",
   "metadata": {},
   "outputs": [
    {
     "name": "stdout",
     "output_type": "stream",
     "text": [
      "LogisticRegression:\n",
      "\n",
      "train score is 0.9852973936288706, test score is 0.9699819347175134\n"
     ]
    },
    {
     "data": {
      "image/png": "[encoded data removed]",
      "text/plain": [
       "<Figure size 700x700 with 2 Axes>"
      ]
     },
     "metadata": {},
     "output_type": "display_data"
    },
    {
     "name": "stdout",
     "output_type": "stream",
     "text": [
      "accuracy: 0.9699819347175134\n",
      "classification report:\n",
      "              precision    recall  f1-score   support\n",
      "\n",
      "           0       0.97      0.97      0.97     21120\n",
      "           1       0.96      0.97      0.97     19289\n",
      "\n",
      "    accuracy                           0.97     40409\n",
      "   macro avg       0.97      0.97      0.97     40409\n",
      "weighted avg       0.97      0.97      0.97     40409\n",
      " \n",
      "\n",
      "\n",
      "RandomForestClassifier:\n",
      "\n",
      "train score is 1.0, test score is 0.9833700413274271\n"
     ]
    },
    {
     "data": {
      "image/png": "[encoded data removed]",
      "text/plain": [
       "<Figure size 700x700 with 2 Axes>"
      ]
     },
     "metadata": {},
     "output_type": "display_data"
    },
    {
     "name": "stdout",
     "output_type": "stream",
     "text": [
      "accuracy: 0.9833700413274271\n",
      "classification report:\n",
      "              precision    recall  f1-score   support\n",
      "\n",
      "           0       0.99      0.98      0.98     21120\n",
      "           1       0.98      0.99      0.98     19289\n",
      "\n",
      "    accuracy                           0.98     40409\n",
      "   macro avg       0.98      0.98      0.98     40409\n",
      "weighted avg       0.98      0.98      0.98     40409\n",
      " \n",
      "\n",
      "\n",
      "LinearSVC:\n",
      "\n",
      "train score is 1.0, test score is 0.9816872478903215\n"
     ]
    },
    {
     "data": {
      "image/png": "[encoded data removed]",
      "text/plain": [
       "<Figure size 700x700 with 2 Axes>"
      ]
     },
     "metadata": {},
     "output_type": "display_data"
    },
    {
     "name": "stdout",
     "output_type": "stream",
     "text": [
      "accuracy: 0.9816872478903215\n",
      "classification report:\n",
      "              precision    recall  f1-score   support\n",
      "\n",
      "           0       0.99      0.98      0.98     21120\n",
      "           1       0.98      0.98      0.98     19289\n",
      "\n",
      "    accuracy                           0.98     40409\n",
      "   macro avg       0.98      0.98      0.98     40409\n",
      "weighted avg       0.98      0.98      0.98     40409\n",
      " \n",
      "\n",
      "\n",
      "DecisionTreeClassifier:\n",
      "\n",
      "train score is 1.0, test score is 0.9910910935682645\n"
     ]
    },
    {
     "data": {
      "image/png": "[encoded data removed]",
      "text/plain": [
       "<Figure size 700x700 with 2 Axes>"
      ]
     },
     "metadata": {},
     "output_type": "display_data"
    },
    {
     "name": "stdout",
     "output_type": "stream",
     "text": [
      "accuracy: 0.9910910935682645\n",
      "classification report:\n",
      "              precision    recall  f1-score   support\n",
      "\n",
      "           0       0.99      0.99      0.99     21120\n",
      "           1       0.99      0.99      0.99     19289\n",
      "\n",
      "    accuracy                           0.99     40409\n",
      "   macro avg       0.99      0.99      0.99     40409\n",
      "weighted avg       0.99      0.99      0.99     40409\n",
      " \n",
      "\n",
      "\n",
      "GradientBoostingClassifier:\n",
      "\n",
      "train score is 1.0, test score is 0.9939369942339578\n"
     ]
    },
    {
     "data": {
      "image/png": "[encoded data removed]",
      "text/plain": [
       "<Figure size 700x700 with 2 Axes>"
      ]
     },
     "metadata": {},
     "output_type": "display_data"
    },
    {
     "name": "stdout",
     "output_type": "stream",
     "text": [
      "accuracy: 0.9939369942339578\n",
      "classification report:\n",
      "              precision    recall  f1-score   support\n",
      "\n",
      "           0       1.00      0.99      0.99     21120\n",
      "           1       0.99      1.00      0.99     19289\n",
      "\n",
      "    accuracy                           0.99     40409\n",
      "   macro avg       0.99      0.99      0.99     40409\n",
      "weighted avg       0.99      0.99      0.99     40409\n",
      " \n",
      "\n",
      "\n"
     ]
    }
   ],
   "source": [
    "trained_models = {}\n",
    "for name, model in models.items():\n",
    "    print(f'{name}:\\n')\n",
    "    model = fit_predict(model, X_train_vectorized, y_train, X_test_vectorized, y_test)\n",
    "    trained_models[name] = deepcopy(model)"
   ]
  },
  {
   "cell_type": "code",
   "execution_count": null,
   "id": "f8cf1ba9-a908-457a-a4bd-f7f5af427fa2",
   "metadata": {},
   "outputs": [],
   "source": []
  }
 ],
 "metadata": {
  "kernelspec": {
   "display_name": "Python 3 (ipykernel)",
   "language": "python",
   "name": "python3"
  },
  "language_info": {
   "codemirror_mode": {
    "name": "ipython",
    "version": 3
   },
   "file_extension": ".py",
   "mimetype": "text/x-python",
   "name": "python",
   "nbconvert_exporter": "python",
   "pygments_lexer": "ipython3",
   "version": "3.12.3"
  }
 },
 "nbformat": 4,
 "nbformat_minor": 5
}
